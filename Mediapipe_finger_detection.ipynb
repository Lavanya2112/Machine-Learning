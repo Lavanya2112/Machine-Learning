{
 "cells": [
  {
   "cell_type": "code",
   "execution_count": 1,
   "id": "20a05b5e-1030-4504-81e8-e0a8e0517047",
   "metadata": {},
   "outputs": [],
   "source": [
    "#Import libraries\n",
    "import cv2\n",
    "import mediapipe as mp"
   ]
  },
  {
   "cell_type": "code",
   "execution_count": 2,
   "id": "10199bfa-2cf4-4db5-8b57-41f7681fe1af",
   "metadata": {},
   "outputs": [],
   "source": [
    "# Initialize MediaPipe Hands\n",
    "mp_hands = mp.solutions.hands\n",
    "hands = mp_hands.Hands(max_num_hands=1)\n",
    "mp_draw = mp.solutions.drawing_utils\n",
    "\n",
    "# Finger tip and pip landmark indices\n",
    "finger_tips = [4, 8, 12, 16, 20]\n",
    "finger_pips = [3, 6, 10, 14, 18]"
   ]
  },
  {
   "cell_type": "code",
   "execution_count": 3,
   "id": "2fbc08f3-5a2c-4f00-b2d2-145a0581ec9b",
   "metadata": {},
   "outputs": [],
   "source": [
    "# Start video capture\n",
    "cap = cv2.VideoCapture(0)\n",
    "\n",
    "while True:\n",
    "    success, img = cap.read()\n",
    "    if not success:\n",
    "        break\n",
    "\n",
    "    img_rgb = cv2.cvtColor(img, cv2.COLOR_BGR2RGB)\n",
    "    results = hands.process(img_rgb)\n",
    "\n",
    "    if results.multi_hand_landmarks:\n",
    "        for hand_landmarks, hand_info in zip(results.multi_hand_landmarks, results.multi_handedness):\n",
    "            hand_label = hand_info.classification[0].label  # 'Left' or 'Right'\n",
    "            fingers_up = []\n",
    "\n",
    "            # Thumb logic\n",
    "            if hand_label == \"Right\":\n",
    "                if hand_landmarks.landmark[4].x < hand_landmarks.landmark[3].x:\n",
    "                    fingers_up.append(1)\n",
    "            else:  # Left hand\n",
    "                if hand_landmarks.landmark[4].x > hand_landmarks.landmark[3].x:\n",
    "                    fingers_up.append(1)\n",
    "\n",
    "            # Other fingers\n",
    "            for i in range(1, 5):\n",
    "                tip_id = finger_tips[i]\n",
    "                pip_id = finger_pips[i]\n",
    "                if hand_landmarks.landmark[tip_id].y < hand_landmarks.landmark[pip_id].y:\n",
    "                    fingers_up.append(i + 1)\n",
    "\n",
    "            # Draw landmarks\n",
    "            mp_draw.draw_landmarks(img, hand_landmarks, mp_hands.HAND_CONNECTIONS)\n",
    "\n",
    "            # Display finger numbers\n",
    "            cv2.putText(img, f\"Fingers Up: {fingers_up}\", (10, 50),\n",
    "                        cv2.FONT_HERSHEY_SIMPLEX, 1, (0, 255, 0), 2)\n",
    "\n",
    "    cv2.imshow(\"Finger Counter\", img)\n",
    "    if cv2.waitKey(1) & 0xFF == ord('q'):\n",
    "        break\n",
    "\n",
    "cap.release()\n",
    "cv2.destroyAllWindows()"
   ]
  },
  {
   "cell_type": "code",
   "execution_count": null,
   "id": "af00ddae-1e31-4ff2-96bf-2ca6c271a317",
   "metadata": {},
   "outputs": [],
   "source": []
  }
 ],
 "metadata": {
  "kernelspec": {
   "display_name": "Python 3 (ipykernel)",
   "language": "python",
   "name": "python3"
  },
  "language_info": {
   "codemirror_mode": {
    "name": "ipython",
    "version": 3
   },
   "file_extension": ".py",
   "mimetype": "text/x-python",
   "name": "python",
   "nbconvert_exporter": "python",
   "pygments_lexer": "ipython3",
   "version": "3.12.3"
  }
 },
 "nbformat": 4,
 "nbformat_minor": 5
}
